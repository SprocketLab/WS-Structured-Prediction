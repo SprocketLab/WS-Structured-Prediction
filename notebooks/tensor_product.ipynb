{
 "cells": [
  {
   "cell_type": "code",
   "execution_count": 1,
   "metadata": {},
   "outputs": [],
   "source": [
    "import numpy as np\n",
    "import tensorly as tl\n",
    "from copy import deepcopy"
   ]
  },
  {
   "cell_type": "code",
   "execution_count": 98,
   "metadata": {},
   "outputs": [
    {
     "name": "stdout",
     "output_type": "stream",
     "text": [
      "(20, 20, 20)\n"
     ]
    }
   ],
   "source": [
    "k = 2\n",
    "dim = 20\n",
    "\n",
    "# Create symmetric T with random vectors\n",
    "#w = np.random.uniform(size=k)\n",
    "w = np.ones(k)\n",
    "w /= w.sum()\n",
    "v1 = np.random.normal(size=(dim)) + 1\n",
    "v2 = np.random.normal(size=(dim)) + 2\n",
    "vs = np.stack([v1, v2])\n",
    "\n",
    "# Compute the weighted outer product \n",
    "T = np.einsum('i,ij,ik,il->jkl', w, vs, vs, vs)\n",
    "print(T.shape)"
   ]
  },
  {
   "cell_type": "code",
   "execution_count": 99,
   "metadata": {},
   "outputs": [
    {
     "name": "stdout",
     "output_type": "stream",
     "text": [
      "reconstructed weights:\t[0.2140798 0.7859202]\n",
      "original weights:\t[0.5 0.5]\n"
     ]
    },
    {
     "data": {
      "text/plain": [
       "0.6204271293981556"
      ]
     },
     "execution_count": 99,
     "metadata": {},
     "output_type": "execute_result"
    }
   ],
   "source": [
    "# Init\n",
    "weights_init, factors_init = tl.decomposition._nn_cp.initialize_nn_cp(\n",
    "    T, init='random', rank=k)\n",
    "cp_init = tl.cp_tensor.CPTensor((weights_init, factors_init))\n",
    "\n",
    "# Decomposition\n",
    "weights, factors = tl.decomposition.parafac_power_iteration(T, rank=2)\n",
    "\n",
    "T_hat_cp = tl.cp_tensor.CPTensor((weights, factors))\n",
    "T_hat_cp_norm = tl.cp_tensor.cp_normalize(T_hat_cp)\n",
    "\n",
    "weights = T_hat_cp_norm.weights\n",
    "\n",
    "\n",
    "print(f'reconstructed weights:\\t{np.sort(weights / weights.sum())}')\n",
    "print(f'original weights:\\t{np.sort(w)}')\n",
    "\n",
    "T_hat = tl.cp_to_tensor(T_hat_cp_norm)\n",
    "((T - T_hat)**2).mean()\n",
    "\n",
    "\n"
   ]
  },
  {
   "cell_type": "code",
   "execution_count": 100,
   "metadata": {},
   "outputs": [
    {
     "data": {
      "text/plain": [
       "array([[[ 4.13753030e+00, -2.12507773e-01],\n",
       "        [-2.12507773e-01,  1.56710487e-02]],\n",
       "\n",
       "       [[-2.12507773e-01,  1.56710487e-02],\n",
       "        [ 1.56710487e-02, -1.67844624e-03]]])"
      ]
     },
     "execution_count": 100,
     "metadata": {},
     "output_type": "execute_result"
    }
   ],
   "source": [
    "T[:2, :2, :2]"
   ]
  },
  {
   "cell_type": "code",
   "execution_count": 101,
   "metadata": {},
   "outputs": [
    {
     "data": {
      "text/plain": [
       "array([[[ 4.14238430e+00, -2.15751402e-01],\n",
       "        [-2.15751402e-01,  1.73143199e-02]],\n",
       "\n",
       "       [[-2.15751402e-01,  1.73143199e-02],\n",
       "        [ 1.73143199e-02, -1.73132083e-03]]])"
      ]
     },
     "execution_count": 101,
     "metadata": {},
     "output_type": "execute_result"
    }
   ],
   "source": [
    "T_hat[:2, :2, :2]"
   ]
  },
  {
   "cell_type": "code",
   "execution_count": 62,
   "metadata": {},
   "outputs": [
    {
     "name": "stdout",
     "output_type": "stream",
     "text": [
      "reconstructed weights:\t[0.01225734 0.98774266]\n",
      "original weights:\t[0.34335817 0.65664183]\n"
     ]
    }
   ],
   "source": [
    "# Power iteration\n",
    "\n",
    "weights, factors = tl.decomposition.parafac_power_iteration(T, rank=k)\n",
    "\n",
    "print(f'reconstructed weights:\\t{np.sort(weights) / weights.sum()}')\n",
    "print(f'original weights:\\t{np.sort(w)}')"
   ]
  },
  {
   "cell_type": "code",
   "execution_count": null,
   "metadata": {},
   "outputs": [],
   "source": []
  },
  {
   "cell_type": "code",
   "execution_count": 72,
   "metadata": {},
   "outputs": [
    {
     "data": {
      "text/plain": [
       "(weights, factors) : rank-2 CPTensor of shape (10, 10, 10) "
      ]
     },
     "execution_count": 72,
     "metadata": {},
     "output_type": "execute_result"
    }
   ],
   "source": [
    "tensor = tl.random.random_cp(shape=(10, 10, 10), rank=2)\n",
    "tensor"
   ]
  },
  {
   "cell_type": "code",
   "execution_count": null,
   "metadata": {},
   "outputs": [],
   "source": []
  },
  {
   "cell_type": "code",
   "execution_count": null,
   "metadata": {},
   "outputs": [],
   "source": []
  }
 ],
 "metadata": {
  "kernelspec": {
   "display_name": "Python 3.9.5 ('py39')",
   "language": "python",
   "name": "python3"
  },
  "language_info": {
   "codemirror_mode": {
    "name": "ipython",
    "version": 3
   },
   "file_extension": ".py",
   "mimetype": "text/x-python",
   "name": "python",
   "nbconvert_exporter": "python",
   "pygments_lexer": "ipython3",
   "version": "3.9.5"
  },
  "orig_nbformat": 4,
  "vscode": {
   "interpreter": {
    "hash": "61b4062b24dfb1010f420dad5aa3bd73a4d2af47d0ec44eafec465a35a9d7239"
   }
  }
 },
 "nbformat": 4,
 "nbformat_minor": 2
}
