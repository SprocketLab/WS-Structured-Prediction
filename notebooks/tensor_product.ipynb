{
 "cells": [
  {
   "cell_type": "code",
   "execution_count": 102,
   "metadata": {},
   "outputs": [],
   "source": [
    "import numpy as np\n",
    "import tensorly as tl\n",
    "from copy import deepcopy"
   ]
  },
  {
   "cell_type": "code",
   "execution_count": 137,
   "metadata": {},
   "outputs": [],
   "source": [
    "mse = lambda a, b: ((a - b)**2).mean()"
   ]
  },
  {
   "cell_type": "code",
   "execution_count": 106,
   "metadata": {},
   "outputs": [
    {
     "name": "stdout",
     "output_type": "stream",
     "text": [
      "(20, 20, 20)\n"
     ]
    }
   ],
   "source": [
    "k = 2\n",
    "dim = 20\n",
    "\n",
    "# Create symmetric T with random vectors\n",
    "#w = np.random.uniform(size=k)\n",
    "w = np.ones(k)\n",
    "w /= w.sum()\n",
    "v1 = np.random.normal(size=(dim)) + 1\n",
    "v2 = np.random.normal(size=(dim)) + 2\n",
    "vs = np.stack([v1, v2])\n",
    "\n",
    "# Compute the weighted outer product \n",
    "T = np.einsum('i,ij,ik,il->jkl', w, vs, vs, vs)\n",
    "print(T.shape)"
   ]
  },
  {
   "cell_type": "code",
   "execution_count": null,
   "metadata": {},
   "outputs": [],
   "source": []
  },
  {
   "cell_type": "code",
   "execution_count": null,
   "metadata": {},
   "outputs": [],
   "source": []
  },
  {
   "cell_type": "code",
   "execution_count": 118,
   "metadata": {},
   "outputs": [
    {
     "data": {
      "text/plain": [
       "(2, 20)"
      ]
     },
     "execution_count": 118,
     "metadata": {},
     "output_type": "execute_result"
    }
   ],
   "source": [
    "vs.shape"
   ]
  },
  {
   "cell_type": "code",
   "execution_count": 141,
   "metadata": {},
   "outputs": [
    {
     "name": "stdout",
     "output_type": "stream",
     "text": [
      "reconstructed weights:\t[0.12020578 0.87979422]\n",
      "original weights:\t[0.5 0.5]\n"
     ]
    },
    {
     "data": {
      "text/plain": [
       "0.24604792354240623"
      ]
     },
     "execution_count": 141,
     "metadata": {},
     "output_type": "execute_result"
    }
   ],
   "source": [
    "\n",
    "\n",
    "# Decomposition\n",
    "weights, factors = tl.decomposition.parafac_power_iteration(T, rank=2)\n",
    "\n",
    "T_hat_cp = tl.cp_tensor.CPTensor((weights, factors))\n",
    "T_hat_cp_norm = tl.cp_tensor.cp_normalize(T_hat_cp)\n",
    "\n",
    "weights = T_hat_cp_norm.weights\n",
    "\n",
    "\n",
    "print(f'reconstructed weights:\\t{np.sort(weights / weights.sum())}')\n",
    "print(f'original weights:\\t{np.sort(w)}')\n",
    "\n",
    "\n",
    "\n",
    "T_hat = tl.cp_to_tensor(T_hat_cp_norm)\n",
    "mse(T, T_hat)\n",
    "\n",
    "\n"
   ]
  },
  {
   "cell_type": "code",
   "execution_count": 142,
   "metadata": {},
   "outputs": [
    {
     "name": "stdout",
     "output_type": "stream",
     "text": [
      "(weights, factors) : rank-2 CPTensor of shape (20, 20, 20) \n",
      "3 factors\n",
      "2 weights\n"
     ]
    },
    {
     "data": {
      "text/plain": [
       "3.0540896864087613e-31"
      ]
     },
     "execution_count": 142,
     "metadata": {},
     "output_type": "execute_result"
    }
   ],
   "source": [
    "# Reconstruct matrix\n",
    "\n",
    "print(T_hat_cp_norm)\n",
    "print(f'{len(T_hat_cp_norm.factors)} factors')\n",
    "print(f'{len(T_hat_cp_norm.weights)} weights')\n",
    "\n",
    "T_recover = np.einsum('i,ji,ki,li->jkl', T_hat_cp_norm.weights, *T_hat_cp_norm.factors)\n",
    "\n",
    "mse(T_recover, T_hat)"
   ]
  },
  {
   "cell_type": "code",
   "execution_count": null,
   "metadata": {},
   "outputs": [],
   "source": []
  },
  {
   "cell_type": "code",
   "execution_count": null,
   "metadata": {},
   "outputs": [],
   "source": []
  },
  {
   "cell_type": "code",
   "execution_count": null,
   "metadata": {},
   "outputs": [],
   "source": []
  },
  {
   "cell_type": "code",
   "execution_count": null,
   "metadata": {},
   "outputs": [],
   "source": []
  },
  {
   "cell_type": "code",
   "execution_count": null,
   "metadata": {},
   "outputs": [],
   "source": []
  },
  {
   "cell_type": "code",
   "execution_count": null,
   "metadata": {},
   "outputs": [],
   "source": []
  },
  {
   "cell_type": "code",
   "execution_count": null,
   "metadata": {},
   "outputs": [],
   "source": []
  },
  {
   "cell_type": "code",
   "execution_count": 62,
   "metadata": {},
   "outputs": [
    {
     "name": "stdout",
     "output_type": "stream",
     "text": [
      "reconstructed weights:\t[0.01225734 0.98774266]\n",
      "original weights:\t[0.34335817 0.65664183]\n"
     ]
    }
   ],
   "source": [
    "# Power iteration\n",
    "\n",
    "weights, factors = tl.decomposition.parafac_power_iteration(T, rank=k)\n",
    "\n",
    "print(f'reconstructed weights:\\t{np.sort(weights) / weights.sum()}')\n",
    "print(f'original weights:\\t{np.sort(w)}')"
   ]
  },
  {
   "cell_type": "code",
   "execution_count": null,
   "metadata": {},
   "outputs": [],
   "source": []
  },
  {
   "cell_type": "code",
   "execution_count": 72,
   "metadata": {},
   "outputs": [
    {
     "data": {
      "text/plain": [
       "(weights, factors) : rank-2 CPTensor of shape (10, 10, 10) "
      ]
     },
     "execution_count": 72,
     "metadata": {},
     "output_type": "execute_result"
    }
   ],
   "source": [
    "tensor = tl.random.random_cp(shape=(10, 10, 10), rank=2)\n",
    "tensor"
   ]
  },
  {
   "cell_type": "code",
   "execution_count": null,
   "metadata": {},
   "outputs": [],
   "source": []
  },
  {
   "cell_type": "code",
   "execution_count": null,
   "metadata": {},
   "outputs": [],
   "source": []
  },
  {
   "cell_type": "code",
   "execution_count": null,
   "metadata": {},
   "outputs": [],
   "source": []
  },
  {
   "cell_type": "code",
   "execution_count": null,
   "metadata": {},
   "outputs": [],
   "source": []
  },
  {
   "cell_type": "code",
   "execution_count": 288,
   "metadata": {},
   "outputs": [],
   "source": []
  },
  {
   "cell_type": "code",
   "execution_count": null,
   "metadata": {},
   "outputs": [],
   "source": []
  },
  {
   "cell_type": "code",
   "execution_count": null,
   "metadata": {},
   "outputs": [],
   "source": []
  },
  {
   "cell_type": "code",
   "execution_count": 289,
   "metadata": {},
   "outputs": [
    {
     "name": "stdout",
     "output_type": "stream",
     "text": [
      "(2, 10)\n",
      "(10, 10, 10)\n",
      "0.33769893646240234\n"
     ]
    },
    {
     "data": {
      "text/plain": [
       "4.59295773137468e-31"
      ]
     },
     "execution_count": 289,
     "metadata": {},
     "output_type": "execute_result"
    }
   ],
   "source": [
    "import itertools\n",
    "import time\n",
    "\n",
    "k = 2\n",
    "dim = 10\n",
    "\n",
    "# Create symmetric T with random vectors\n",
    "#w = np.random.uniform(size=k)\n",
    "#w = np.ones(k)\n",
    "#w /= w.sum()\n",
    "w = np.array([0.3, 0.7])\n",
    "\n",
    "v1 = np.random.normal(size=(dim)) + 1\n",
    "v2 = np.random.normal(size=(dim)) + 2\n",
    "vs = np.stack([v1, v2])\n",
    "\n",
    "print(vs.shape)\n",
    "\n",
    "# Compute the weighted outer product \n",
    "M3 = np.einsum('i,ij,ik,il->jkl', w, vs, vs, vs)\n",
    "print(M3.shape)\n",
    "\n",
    "\n",
    "M2 = np.einsum('i,ij,ik->jk', w, vs, vs)\n",
    "M2.shape\n",
    "\n",
    "\n",
    "past = time.time()\n",
    "factors, weights = tensor_decomp(M2, M3, k)\n",
    "print(time.time() - past)\n",
    "\n",
    "factors = factors.T\n",
    "\n",
    "\n",
    "#T_hat = np.einsum('i,ij,ik,il->jkl', weights, factors, factors, factors)\n",
    "#mse(T_hat, M3)\n",
    "\n",
    "\n",
    "\n",
    "mse(factors, vs)\n",
    "\n"
   ]
  },
  {
   "cell_type": "code",
   "execution_count": 290,
   "metadata": {},
   "outputs": [
    {
     "data": {
      "text/plain": [
       "array([[ 3.33012752, -0.80693294,  2.63727743,  1.11684768,  0.3530164 ,\n",
       "         3.32308719,  1.71748133,  2.71546469, -1.03396881,  0.60140421],\n",
       "       [ 2.65525247,  1.47335257,  1.7260274 ,  2.20489611,  0.69630458,\n",
       "        -0.39943447,  2.22551685,  2.38814121,  2.85751867,  2.40172808]])"
      ]
     },
     "execution_count": 290,
     "metadata": {},
     "output_type": "execute_result"
    }
   ],
   "source": [
    "factors"
   ]
  },
  {
   "cell_type": "code",
   "execution_count": null,
   "metadata": {},
   "outputs": [],
   "source": []
  },
  {
   "cell_type": "code",
   "execution_count": null,
   "metadata": {},
   "outputs": [],
   "source": []
  },
  {
   "cell_type": "code",
   "execution_count": 331,
   "metadata": {},
   "outputs": [],
   "source": [
    "def multimap(A, V_array):\n",
    "    \"\"\"Compute a tensor product as a multilinear map.(pg. 2778, Section 2)\n",
    "\n",
    "        Parameters\n",
    "        ----------\n",
    "        A\n",
    "            A multidimensional tensor\n",
    "        V_array\n",
    "            Array of vectors to compute tensor against\n",
    "\n",
    "    \"\"\"\n",
    "    p = len(V_array)\n",
    "    for i in range(len(V_array)):\n",
    "        if len(V_array[i].shape) == 1:\n",
    "            V_array[i] = np.expand_dims(V_array[i], axis=1)\n",
    "\n",
    "    n = V_array[0].shape[0]\n",
    "    dims = [a.shape[1] for a in V_array]\n",
    "    dim_ranges = [range(a.shape[1]) for a in V_array]\n",
    "    B = np.zeros(dims)\n",
    "\n",
    "    all_indices = list(itertools.product(*dim_ranges)) #i_1,...,i_p\n",
    "    all_vectors = list(itertools.product(range(n), repeat=p)) #j_1,...,j_p\n",
    "\n",
    "    for ind in all_indices:\n",
    "        for vec in all_vectors:\n",
    "            tmp = A[vec]\n",
    "            for k in range(p):\n",
    "                tmp *= V_array[k][vec[k], ind[k]]\n",
    "            B[ind] += tmp\n",
    "    return B\n",
    "\n",
    "def two_tensor_prod(w, x, y):\n",
    "    \"\"\"\n",
    "    A type of outer product\n",
    "    \"\"\"\n",
    "    r = x.shape[0]\n",
    "    M2 = np.zeros([r, r])\n",
    "\n",
    "    for a in range(w.shape[0]):\n",
    "        for i in range(x.shape[0]):\n",
    "            for j in range(y.shape[0]):\n",
    "                M2[i,j] += w[a] * x[i,a] * y[j,a]\n",
    "\n",
    "    return M2\n",
    "\n",
    "def three_tensor_prod(w, x, y, z):\n",
    "    \"\"\"\n",
    "    Three-way outer product\n",
    "    \"\"\"\n",
    "    r = x.shape[0]\n",
    "    M3 = np.zeros([r, r, r])\n",
    "\n",
    "    if len(w.shape) == 0:\n",
    "        for i in range(x.shape[0]):\n",
    "            for j in range(y.shape[0]):\n",
    "                for k in range(z.shape[0]):\n",
    "                    M3[i,j,k] += w * x[i] * y[j] * z[k]\n",
    "    else:\n",
    "        for a in range(w.shape[0]):\n",
    "            for i in range(x.shape[0]):\n",
    "                for j in range(y.shape[0]):\n",
    "                    for k in range(z.shape[0]):\n",
    "                        M3[i,j,k] += w[a] * x[i,a] * y[j,a] * z[k,a]\n",
    "\n",
    "    return M3\n",
    "\n",
    "def T_map(T, u):\n",
    "    \"\"\" Power method base transformation (pg. 2790, equation (5))\n",
    "\n",
    "        Parameters\n",
    "        ----------\n",
    "        T\n",
    "            A multidimensional tensor\n",
    "        u\n",
    "            A candidate eigenvector\n",
    "\n",
    "        Returns\n",
    "        -------\n",
    "        t   \n",
    "            Transformed candidate\n",
    "\n",
    "    \"\"\"\n",
    "\n",
    "    d = u.shape[0]\n",
    "    t = np.zeros(d)\n",
    "    for i in range(d):\n",
    "        for j in range(d):\n",
    "            for k in range(d):\n",
    "                t[i] += T[i,j,k] * u[j] * u[k]\n",
    "    return t\n",
    "\n",
    "def tensor_decomp(M2, M3, comps):\n",
    "    \"\"\" Tensor Decomposition Algorithm (pg. 2795, Algorithm 1)\n",
    "        This is combined with reduction (4.3.1)\n",
    "\n",
    "        Parameters\n",
    "        ----------\n",
    "        M2\n",
    "            Symmetric matrix to aid the decomposition\n",
    "        M3\n",
    "            Symmetric tensor to be decomposed\n",
    "        comps\n",
    "            Number of eigencomponents to return\n",
    "\n",
    "        Returns\n",
    "        -------\n",
    "        mu_rec   \n",
    "            Recovered eigenvectors (a matrix with #comps eigenvectors)\n",
    "        lam_rec\n",
    "            Recovered eigenvalues (a vector with #comps eigenvalues)            \n",
    "\n",
    "    \"\"\"\n",
    "    lam_rec = np.zeros(comps)\n",
    "    mu_rec = np.zeros((M2.shape[0], comps))\n",
    "\n",
    "    for b in range(comps):\n",
    "        # initial eigendecomposition used in reduction (4.3.1)\n",
    "        lam, v = np.linalg.eigh(M2)\n",
    "        idx = lam.argsort()[::-1]\n",
    "        lam = lam[idx]\n",
    "        v = v[:, idx]\n",
    "\n",
    "        # keep only the positive eigenvalues\n",
    "        n_eigpos = np.sum(lam > 10e-10)\n",
    "        if n_eigpos > 0:\n",
    "            W = v[:,:n_eigpos] @ np.diag(1.0/np.sqrt(np.abs(lam[:n_eigpos])))\n",
    "\n",
    "            B = np.linalg.pinv(W.T)\n",
    "            M3_tilde = multimap(M3, [W, W, W]) # reduction complete\n",
    "\n",
    "            # decomposition setup\n",
    "            # TODO try different hps if this doesn't work\n",
    "            N        = 1000               # number of power iterations\n",
    "            restarts = 10                 # number of random restarts # NOTE critical\n",
    "            tau_star = 0                  # best robust eigenvalue so far\n",
    "            u_star   = np.zeros(n_eigpos) # best eigenvector so far\n",
    "\n",
    "            # repeated restarts to find best eigenvector\n",
    "            for j in range(restarts):\n",
    "                # randomly draw from unit sphere (step 2)\n",
    "                u = np.random.rand(n_eigpos)\n",
    "                u /= np.linalg.norm(u)\n",
    "\n",
    "                # power iteration for N iterations\n",
    "                for i in range(N):\n",
    "                    u = T_map(M3_tilde, u)\n",
    "                    u /= np.linalg.norm(u)\n",
    "\n",
    "                # check for best eigenvalue\n",
    "                if j == 0 or (j > 0 and multimap(M3_tilde, [u, u, u]) > tau_star):\n",
    "                    tau_star = multimap(M3_tilde, [u, u, u])\n",
    "                    u_star = u\n",
    "\n",
    "            # N more power iterations for best eigenvector found\n",
    "            u = u_star\n",
    "            for i in range(N):\n",
    "                u = T_map(M3_tilde, u)\n",
    "                u /= np.linalg.norm(u)\n",
    "\n",
    "            # recovered modified (post-reduction) eigenvalue\n",
    "            lamb = (T_map(M3_tilde, u) / u)[0]\n",
    "\n",
    "            # recover original eigenvector and eigenvalue pair\n",
    "            mu_rec[:, b] = lamb* B @ u\n",
    "            lam_rec[b] = 1/lamb**2\n",
    "\n",
    "            # deflation: remove component, repeat\n",
    "            M2 -= lam_rec[b] * np.outer(mu_rec[:,b], mu_rec[:,b])\n",
    "            M3 -= three_tensor_prod(np.array(lam_rec[b]), mu_rec[:,b], mu_rec[:,b], mu_rec[:,b])\n",
    "\n",
    "    return mu_rec, lam_rec\n",
    "\n",
    "\n",
    "def tensor_decomp_x3(w, x1, x2, x3, debug=False, return_errs=False):\n",
    "    k = w.shape[0]\n",
    "    dim = x1.shape[0]\n",
    "    x_tilde_1 = np.zeros((dim, k))\n",
    "    ex32 = np.einsum('i,ji,ki->jk', w, x3, x2)\n",
    "    ex12 = np.einsum('i,ji,ki->jk', w, x1, x2)\n",
    "    ex12_inv = np.linalg.pinv(ex12)\n",
    "    ex31 = np.einsum('i,ji,ki->jk', w, x3, x1)\n",
    "    ex21 = np.einsum('i,ji,ki->jk', w, x2, x1)\n",
    "    ex21_inv = np.linalg.pinv(ex21)\n",
    "    x_tilde_1 = (ex32 @ ex12_inv) @ x1\n",
    "    x_tilde_2 = (ex31 @ ex21_inv) @ x2\n",
    "    M2 = np.einsum('i,ji,ki->jk', w, x_tilde_1, x_tilde_2)\n",
    "    M3 = np.einsum('i,ji,ki,li->jkl', w, x_tilde_1, x_tilde_2, x3)\n",
    "    factors, weights = tensor_decomp(M2, M3, k)\n",
    "    if debug:\n",
    "        print(f'error:', mse(factors, x3))\n",
    "    if return_errs:\n",
    "        return weights, x3, mse(factors, x3)\n",
    "    return weights, x3\n",
    "\n",
    "def tensor_decomp_full(w, x1, x2, x3, debug=False, return_errs=False):\n",
    "    w, x3_rec, err_3_12 = tensor_decomp_x3(w, x1, x2, x3, debug=debug, return_errs=True)\n",
    "    w, x3_rec, err_3_21 = tensor_decomp_x3(w, x2, x1, x3, debug=debug, return_errs=True)\n",
    "    err_3 = np.min([err_3_12, err_3_21])\n",
    "\n",
    "    w, x2_rec, err_2_13 = tensor_decomp_x3(w, x1, x3, x2, debug=debug, return_errs=True)\n",
    "    w, x2_rec, err_2_31 = tensor_decomp_x3(w, x3, x1, x2, debug=debug, return_errs=True)\n",
    "    err_2 = np.min([err_2_13, err_2_31])\n",
    "\n",
    "    w, x1_rec, err_1_23 = tensor_decomp_x3(w, x2, x3, x1, debug=debug, return_errs=True)\n",
    "    w, x1_rec, err_1_32 = tensor_decomp_x3(w, x3, x2, x1, debug=debug, return_errs=True)\n",
    "    err_1 = np.min([err_1_23, err_1_32])\n",
    "    \n",
    "    if return_errs:\n",
    "        return w, x1_rec, x2_rec, x3_rec, np.array([err_1, err_2, err_3])\n",
    "    return w, x1_rec, x2_rec, x3_rec\n",
    "\n",
    "\n",
    "\n",
    "\n",
    "\n"
   ]
  },
  {
   "cell_type": "code",
   "execution_count": 338,
   "metadata": {},
   "outputs": [
    {
     "name": "stdout",
     "output_type": "stream",
     "text": [
      "0.0 0.0\n",
      "0.0999999999999995 0.1\n",
      "0.20000000000000054 0.2\n",
      "0.299999999999997 0.30000000000000004\n",
      "0.4000000000000001 0.4\n",
      "0.4999999999999942 0.5\n",
      "0.39999999999999697 0.3999999999999999\n",
      "0.29999999999999777 0.29999999999999993\n",
      "0.20000000000000348 0.19999999999999996\n",
      "0.10000000000000017 0.09999999999999998\n",
      "0.0 0.0\n"
     ]
    }
   ],
   "source": [
    "errs_res = []\n",
    "dim = 10\n",
    "eps = 0.1\n",
    "for p in np.arange(0, 1.0+eps, eps):\n",
    "    w = np.array([p, 1.0 - p])\n",
    "    k = len(w)\n",
    "    x1 = np.random.normal(size=(dim, k)) + 1\n",
    "    x2 = np.random.normal(size=(dim, k)) + 2\n",
    "    x3 = np.random.normal(size=(dim, k)) + 3\n",
    "\n",
    "    w_rec, x1_rec, x2_rec, x3_rec, errs = tensor_decomp_full(\n",
    "        w, x1, x2, x3, debug=False, return_errs=True)\n",
    "\n",
    "    print(np.sort(w_rec)[0], np.sort(w)[0])\n",
    "\n",
    "    errs_res.append(errs)"
   ]
  },
  {
   "cell_type": "code",
   "execution_count": 339,
   "metadata": {},
   "outputs": [
    {
     "data": {
      "image/png": "[encoded data removed]",
      "text/plain": [
       "<Figure size 432x288 with 1 Axes>"
      ]
     },
     "metadata": {
      "needs_background": "light"
     },
     "output_type": "display_data"
    }
   ],
   "source": [
    "import matplotlib.pyplot as plt\n",
    "\n",
    "errs_res = np.array(errs_res)\n",
    "xticks = np.arange(0, 1.0+eps, eps)\n",
    "\n",
    "plt.plot(xticks, errs_res[:, 0], label='x1')\n",
    "plt.plot(xticks, errs_res[:, 1], label='x2')\n",
    "plt.plot(xticks, errs_res[:, 2], label='x3')\n",
    "plt.legend(frameon=False)\n",
    "plt.xlabel('w1')\n",
    "plt.ylabel('MSE')\n",
    "\n",
    "plt.show()"
   ]
  },
  {
   "cell_type": "code",
   "execution_count": null,
   "metadata": {},
   "outputs": [],
   "source": []
  }
 ],
 "metadata": {
  "kernelspec": {
   "display_name": "Python 3.9.5 ('py39')",
   "language": "python",
   "name": "python3"
  },
  "language_info": {
   "codemirror_mode": {
    "name": "ipython",
    "version": 3
   },
   "file_extension": ".py",
   "mimetype": "text/x-python",
   "name": "python",
   "nbconvert_exporter": "python",
   "pygments_lexer": "ipython3",
   "version": "3.9.5"
  },
  "orig_nbformat": 4,
  "vscode": {
   "interpreter": {
    "hash": "61b4062b24dfb1010f420dad5aa3bd73a4d2af47d0ec44eafec465a35a9d7239"
   }
  }
 },
 "nbformat": 4,
 "nbformat_minor": 2
}
