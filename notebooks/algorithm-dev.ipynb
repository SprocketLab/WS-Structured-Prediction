{
 "cells": [
  {
   "cell_type": "code",
   "execution_count": 1,
   "metadata": {},
   "outputs": [],
   "source": [
    "%load_ext autoreload\n",
    "%autoreload 2\n",
    "\n",
    "import sys\n",
    "import os\n",
    "\n",
    "root_path = '../'\n",
    "sys.path.append(os.path.join(root_path, 'code', 'core'))\n",
    "\n",
    "import pse \n",
    "import utils \n",
    "import numpy as np \n",
    "import itertools\n",
    "import math\n",
    "import networkx as nx\n",
    "import matplotlib.pyplot as plt\n",
    "\n",
    "from ranking_utils import RankingUtils\n",
    "from mallows import Mallows\n",
    "from ws_ranking import *\n",
    "import numpy as np\n",
    "from tensorly.decomposition import parafac\n",
    "\n",
    "np.random.seed(0)"
   ]
  },
  {
   "cell_type": "code",
   "execution_count": 6,
   "metadata": {},
   "outputs": [],
   "source": [
    "d =5\n",
    "r_utils = RankingUtils(d)\n",
    "r1 = Ranking([0,1,2,3,4],r_utils)\n",
    "r2 = Ranking([4,3,2,1,0],r_utils)\n",
    "centers = [ r1, r2 ] "
   ]
  },
  {
   "cell_type": "code",
   "execution_count": 7,
   "metadata": {},
   "outputs": [],
   "source": [
    "def generate_true_rankings(d, n):\n",
    "    ''' Sample from discrete distribution\n",
    "    '''\n",
    "    r_utils = RankingUtils(d)\n",
    "    #centers = [r_utils.get_random_ranking() for _ in range(k)]\n",
    "    \n",
    "    Y_inds = np.random.choice(a=np.arange(k), p=w, size=n)\n",
    "    Y = [centers[Y_ind] for Y_ind in Y_inds]\n",
    "    return Y, Y_inds\n",
    "\n",
    "def sample_mallows_LFs(Y, m, thetas, p=None, d_mask=None):\n",
    "    # p = None means sample full rankings\n",
    "    # else each alternative will appear in at least p fraction of LFs.\n",
    "    n = len(Y)\n",
    "    d = len(Y[0])\n",
    "\n",
    "    thetas = np.array(thetas)\n",
    "    r_utils = RankingUtils(d)\n",
    "\n",
    "    # get LFs\n",
    "    lst_mlw = [Mallows(r_utils, theta) for theta in thetas ]\n",
    "    L = [[mlw.sample(y)[0] for mlw in lst_mlw] for y in Y]\n",
    "\n",
    "    return L \n",
    "\n",
    "# compute psuedo-euclidean embeddings\n",
    "def compute_pse(Y, L, r_utils, dim=0):\n",
    "    # assumes hash function is implemented by the class of obj.\n",
    "    unique_obj = set(Y)\n",
    "    n, m = len(L), len(L[0])\n",
    "    for i in range(len(L)):\n",
    "        for j in range(len(L[0])):\n",
    "            unique_obj.add(L[i][j])\n",
    "    \n",
    "    # compute pairwise distances b/w unique objs\n",
    "    unique_obj_lst = list(unique_obj)\n",
    "    map_obj_id = {k: v for v, k in enumerate(unique_obj_lst)}\n",
    "    map_id_obj = unique_obj_lst \n",
    "\n",
    "    D = [[r_utils.kendall_tau_distance(r1, r2)**2 for r2 in unique_obj] for r1 in unique_obj]\n",
    "    D = np.array(D) \n",
    "    #print(D.shape)\n",
    "\n",
    "    X, tk = pse.pseudo_embedding(D, dim)\n",
    "    s = len(D)\n",
    "    rec = np.zeros((s, s))\n",
    "    err = 0\n",
    "    for i in range(s):\n",
    "        for j in range(s):\n",
    "            rec[i,j] = np.abs(np.linalg.norm(X[i,:tk]-X[j,:tk])**2 - np.linalg.norm(X[i,tk:]-X[j,tk:])**2)\n",
    "            if i != j:\n",
    "                err += np.abs((np.sqrt(D[i,j])-np.sqrt(rec[i,j])))/np.sqrt(D[i,j])\n",
    "    err /= (s*(s-1))\n",
    "    #print(f\"Reconstruction error = {err}\")\n",
    "    #print(D)\n",
    "    Y_emb = np.array([X[map_obj_id[y]] for y in Y])\n",
    "    L_emb = np.array([ [ X[map_obj_id[L[i][j]]]  for i in range(n)] for j in range(m) ] )\n",
    "\n",
    "    return Y_emb, L_emb, X, tk\n",
    "\n",
    "def get_estimated_w_mu(L_emb):\n",
    "    T_hat = (L_emb[0, :, :][:, :, None, None] * L_emb[1, :, :][:, None, :, None] * L_emb[2, :, :][:, None, None, :]).mean(axis=0)\n",
    "\n",
    "    w_hat, mu_hat = parafac(T_hat, rank=k, normalize_factors=True)\n",
    "\n",
    "    T_reconstructed = (mu_hat[0])[:, None, None] * (mu_hat[1])[None, :, None] * (mu_hat[2])[None, None, :]\n",
    "    T_reconstructed = T_reconstructed @ w_hat\n",
    "    \n",
    "    mse = ((T_reconstructed - T_hat) ** 2).mean()\n",
    "    #print(f'mse={mse}')\n",
    "\n",
    "    return w_hat, mu_hat\n",
    "\n",
    "compute_mse = lambda a, b: np.mean((a - b) ** 2)\n",
    "compute_sign_mse = lambda a, b: np.min([compute_mse(a, b), compute_mse(a, -b)])"
   ]
  },
  {
   "cell_type": "code",
   "execution_count": 8,
   "metadata": {},
   "outputs": [
    {
     "name": "stdout",
     "output_type": "stream",
     "text": [
      "100\n",
      "[[[0.08451181 0.12864185 0.15608276]\n",
      "  [0.02271005 0.06900427 0.00379217]]\n",
      "\n",
      " [[0.00171338 0.0017173  0.00261323]\n",
      "  [0.00548765 0.00569593 0.00201243]]]\n",
      "200\n",
      "[[[0.09910389 0.10985685 0.12244916]\n",
      "  [0.1688726  0.03243424 0.02304114]]\n",
      "\n",
      " [[0.00273214 0.00145486 0.00343776]\n",
      "  [0.01114338 0.00279803 0.00278063]]]\n",
      "400\n",
      "[[[4.68818463e-05 1.51419462e-04 7.89743223e-05]\n",
      "  [5.98259684e-05 7.53207580e-05 2.83858207e-05]]\n",
      "\n",
      " [[3.47248161e-03 1.29232387e-02 1.22535517e-03]\n",
      "  [1.17303468e-03 4.23944622e-03 1.65903625e-03]]]\n",
      "800\n",
      "[[[1.98962164e-05 5.59186827e-05 1.30292890e-05]\n",
      "  [9.39637560e-05 9.07290970e-05 1.91339102e-05]]\n",
      "\n",
      " [[6.54825145e-04 1.67442245e-03 1.47730401e-03]\n",
      "  [2.80817390e-03 2.25997529e-03 2.33532180e-02]]]\n",
      "1600\n",
      "[[[1.88059799e-05 1.97033675e-05 4.46658890e-05]\n",
      "  [2.29491366e-05 1.63971763e-05 2.24931233e-05]]\n",
      "\n",
      " [[2.86626968e-03 1.94739824e-03 1.22186600e-03]\n",
      "  [2.07183177e-02 9.38946901e-03 3.25811407e-03]]]\n",
      "3200\n",
      "[[[3.29675070e-06 8.35853602e-06 7.75872570e-06]\n",
      "  [7.54960311e-06 1.01402481e-05 3.70828143e-05]]\n",
      "\n",
      " [[9.01878119e-04 1.23777296e-03 1.57378855e-03]\n",
      "  [4.16283709e-03 4.71671065e-03 3.10756680e-03]]]\n",
      "6400\n",
      "[[[1.80643913e-06 3.59693037e-06 7.45755283e-06]\n",
      "  [1.05277663e-05 7.35744649e-06 1.84413079e-06]]\n",
      "\n",
      " [[1.31792906e-03 1.86863568e-03 1.47752462e-03]\n",
      "  [3.69546086e-03 6.11479419e-03 9.62224036e-03]]]\n",
      "12800\n",
      "[[[6.40150059e-07 1.31207878e-06 1.45262382e-06]\n",
      "  [5.12973486e-06 3.25223328e-06 2.46334608e-06]]\n",
      "\n",
      " [[1.14330348e-03 1.21236252e-03 1.92789373e-03]\n",
      "  [3.83787802e-03 3.60530071e-03 3.49559643e-02]]]\n"
     ]
    }
   ],
   "source": [
    "# Draw LF samples \n",
    "# \n",
    "\n",
    "mse_reses = []\n",
    "\n",
    "ns = [100, 200, 400, 800, 1_600, 3_200, 6_400, 12_800]\n",
    "for n in ns:\n",
    "    print(n)\n",
    "\n",
    "    #####\n",
    "    k = 2 # Number of centers/components\n",
    "    d = 5 # Num items in rankings\n",
    "    #n = 100 # Num examples\n",
    "    max_m = 3 # Num LFs\n",
    "    w = np.ones(k) / k\n",
    "    ######\n",
    "\n",
    "    mse_res = np.zeros((2, k, max_m))\n",
    "\n",
    "    theta_star = np.array([0.8, 0.9, 1.0])\n",
    "\n",
    "\n",
    "    r_utils = RankingUtils(d)\n",
    "    Y, Y_inds = generate_true_rankings(d, n)\n",
    "    L = sample_mallows_LFs(Y, max_m, theta_star)\n",
    "    Y_emb, L_emb, X, tk = compute_pse(Y, L, r_utils, dim=0)\n",
    "    Y_emb_pos, Y_emb_neg = Y_emb[:, :tk], Y_emb[:, tk:]\n",
    "    L_emb_pos, L_emb_neg = L_emb[:, :, :tk], L_emb[:, :, tk:]\n",
    "\n",
    "    w_hat_pos, mu_hat_pos = get_estimated_w_mu(L_emb_pos)\n",
    "    w_hat_neg, mu_hat_neg = get_estimated_w_mu(L_emb_neg)\n",
    "\n",
    "    def get_expected_dist(L_emb, Y_emb):\n",
    "        expected_dist = np.zeros((k, max_m))\n",
    "        for c in range(k):\n",
    "            for i in range(max_m):\n",
    "                expected_dist[c, i] = (np.linalg.norm(L_emb[i, :, :][Y_inds == c] - Y_emb[Y_inds == c], axis=1) ** 2).mean()\n",
    "\n",
    "        return expected_dist\n",
    "\n",
    "    exp_dists_pos = get_expected_dist(L_emb_pos, Y_emb_pos)\n",
    "    exp_dists_neg = get_expected_dist(L_emb_neg, Y_emb_neg)\n",
    "\n",
    "\n",
    "\n",
    "    mu_hat_pos = np.array(mu_hat_pos)\n",
    "    mu_hat_neg = np.array(mu_hat_neg)\n",
    "\n",
    "    for lf in range(max_m):\n",
    "        for cent in range(k):\n",
    "            # Compute positive\n",
    "            mu = L_emb_pos[lf][Y_inds == cent, :].mean(axis=0)\n",
    "            mu /= np.linalg.norm(mu)\n",
    "            mse_res[0, cent, lf] += compute_sign_mse(mu, mu_hat_pos[lf, :, cent])\n",
    "\n",
    "            # Compute negative\n",
    "            mu = L_emb_neg[lf][Y_inds == cent, :].mean(axis=0)\n",
    "            mu /= np.linalg.norm(mu)\n",
    "            mse_res[1, cent, lf] += compute_sign_mse(mu, mu_hat_neg[lf, :, cent])\n",
    "\n",
    "    print(mse_res)\n",
    "    mse_reses.append(mse_res)\n",
    "\n"
   ]
  },
  {
   "cell_type": "code",
   "execution_count": 9,
   "metadata": {},
   "outputs": [
    {
     "data": {
      "image/png": "[encoded data removed]",
      "text/plain": [
       "<Figure size 1080x288 with 9 Axes>"
      ]
     },
     "metadata": {
      "needs_background": "light"
     },
     "output_type": "display_data"
    }
   ],
   "source": [
    "mse_reses = np.array(mse_reses)\n",
    "mse_reses.shape\n",
    "\n",
    "fig, axs = plt.subplots(3, max_m, figsize=(max_m * 5, 4))\n",
    "\n",
    "start = 1\n",
    "end = len(ns) - 1\n",
    "\n",
    "for lf in range(max_m):\n",
    "    axs[0, lf].set_title(f'LF {lf}')\n",
    "    for center in range(k):\n",
    "        axs[0, lf].plot(ns[start:end], mse_reses[start:end, 0, center, lf], label=f'Center {center}')\n",
    "    axs[0, lf].legend(frameon=False)\n",
    "    axs[0, 0].set_ylabel('MSE +')\n",
    "\n",
    "    for center in range(k):\n",
    "        axs[1, lf].plot(ns[start:end], mse_reses[start:end, 1, center, lf], label=f'Center {center}')\n",
    "        axs[1, lf].set_xlabel('n')\n",
    "    axs[1, lf].legend(frameon=False)\n",
    "    axs[1, 0].set_ylabel('MSE -')\n",
    "\n",
    "    for center in range(k):\n",
    "        axs[2, lf].plot(ns[start:end], \n",
    "            mse_reses[start:end, 0, center, lf] \\\n",
    "                + mse_reses[start:end, 1, center, lf], \n",
    "            label=f'Center {center}')\n",
    "        axs[2, lf].set_xlabel('n')\n",
    "    axs[2, lf].legend(frameon=False)\n",
    "    axs[2, 0].set_ylabel('MSE -')\n",
    "\n",
    "\n",
    "plt.show()"
   ]
  },
  {
   "cell_type": "code",
   "execution_count": 261,
   "metadata": {},
   "outputs": [
    {
     "data": {
      "text/plain": [
       "(3, 10, 2)"
      ]
     },
     "execution_count": 261,
     "metadata": {},
     "output_type": "execute_result"
    }
   ],
   "source": [
    "mu_hat_pos.shape"
   ]
  },
  {
   "cell_type": "code",
   "execution_count": 248,
   "metadata": {},
   "outputs": [
    {
     "data": {
      "text/plain": [
       "array([[1., 1., 1.],\n",
       "       [1., 1., 1.]])"
      ]
     },
     "execution_count": 248,
     "metadata": {},
     "output_type": "execute_result"
    }
   ],
   "source": [
    "mu_hat_pos = np.array(mu_hat_pos)\n",
    "np.linalg.norm(mu_hat_pos, axis=1).T ** 2"
   ]
  },
  {
   "cell_type": "code",
   "execution_count": 258,
   "metadata": {},
   "outputs": [
    {
     "data": {
      "text/plain": [
       "(1000, 10)"
      ]
     },
     "execution_count": 258,
     "metadata": {},
     "output_type": "execute_result"
    }
   ],
   "source": [
    "Y_emb_pos.shape"
   ]
  },
  {
   "cell_type": "code",
   "execution_count": 256,
   "metadata": {},
   "outputs": [
    {
     "data": {
      "text/plain": [
       "(3, 10, 2)"
      ]
     },
     "execution_count": 256,
     "metadata": {},
     "output_type": "execute_result"
    }
   ],
   "source": [
    "mu_hat_pos.shape"
   ]
  },
  {
   "cell_type": "code",
   "execution_count": 282,
   "metadata": {},
   "outputs": [],
   "source": [
    "# embedding for center 0\n",
    "mu0 = Y_emb_pos[Y_inds == 0, :][0]\n",
    "mu0 /= np.linalg.norm(mu0)\n",
    "\n",
    "# embedding for center 1\n",
    "mu1 = Y_emb_pos[Y_inds == 1, :][0]\n",
    "mu1 /= np.linalg.norm(mu1)"
   ]
  },
  {
   "cell_type": "code",
   "execution_count": 283,
   "metadata": {},
   "outputs": [
    {
     "data": {
      "text/plain": [
       "array([-0.08503496,  0.27946345, -0.04941446, -0.12045695, -0.01624838,\n",
       "        0.04755848, -0.3921985 ,  0.40385568,  0.30539595, -0.69642371])"
      ]
     },
     "execution_count": 283,
     "metadata": {},
     "output_type": "execute_result"
    }
   ],
   "source": [
    "mu1"
   ]
  },
  {
   "cell_type": "code",
   "execution_count": 313,
   "metadata": {},
   "outputs": [
    {
     "data": {
      "text/plain": [
       "array([-0.06362067, -0.11258569,  0.08012212,  0.05400758, -0.05670742,\n",
       "        0.2910298 ,  0.0060958 , -0.90074697,  0.02961498, -0.27160103])"
      ]
     },
     "execution_count": 313,
     "metadata": {},
     "output_type": "execute_result"
    }
   ],
   "source": [
    "lf_2_mu_hat_pos_1 = mu_hat_pos[2, :, 1]\n",
    "lf_2_mu_hat_pos_1"
   ]
  },
  {
   "cell_type": "code",
   "execution_count": 314,
   "metadata": {},
   "outputs": [
    {
     "data": {
      "text/plain": [
       "-0.18972490451311308"
      ]
     },
     "execution_count": 314,
     "metadata": {},
     "output_type": "execute_result"
    }
   ],
   "source": [
    "np.dot(mu1, lf_2_mu_hat_pos_1)"
   ]
  },
  {
   "cell_type": "code",
   "execution_count": null,
   "metadata": {},
   "outputs": [],
   "source": []
  }
 ],
 "metadata": {
  "kernelspec": {
   "display_name": "Python 3.8.8 ('base')",
   "language": "python",
   "name": "python3"
  },
  "language_info": {
   "codemirror_mode": {
    "name": "ipython",
    "version": 3
   },
   "file_extension": ".py",
   "mimetype": "text/x-python",
   "name": "python",
   "nbconvert_exporter": "python",
   "pygments_lexer": "ipython3",
   "version": "3.9.7"
  },
  "orig_nbformat": 4,
  "vscode": {
   "interpreter": {
    "hash": "40d3a090f54c6569ab1632332b64b2c03c39dcf918b08424e98f38b5ae0af88f"
   }
  }
 },
 "nbformat": 4,
 "nbformat_minor": 2
}
