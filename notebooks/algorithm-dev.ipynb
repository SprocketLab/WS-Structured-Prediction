{
 "cells": [
  {
   "cell_type": "code",
   "execution_count": 1,
   "metadata": {},
   "outputs": [],
   "source": [
    "%load_ext autoreload\n",
    "%autoreload 2\n",
    "\n",
    "import sys\n",
    "import os\n",
    "\n",
    "root_path = '../'\n",
    "sys.path.append(os.path.join(root_path, 'code', 'core'))\n",
    "\n",
    "import pse \n",
    "import utils \n",
    "import numpy as np \n",
    "import itertools\n",
    "import math\n",
    "import networkx as nx\n",
    "import matplotlib.pyplot as plt\n",
    "\n",
    "from ranking_utils import *\n",
    "from mallows import *\n",
    "from ws_ranking import *\n",
    "import numpy as np\n"
   ]
  },
  {
   "cell_type": "code",
   "execution_count": null,
   "metadata": {},
   "outputs": [],
   "source": [
    "\n"
   ]
  },
  {
   "cell_type": "code",
   "execution_count": 28,
   "metadata": {},
   "outputs": [
    {
     "name": "stdout",
     "output_type": "stream",
     "text": [
      "[ 2  4  6  8 10 12 14 16 18]\n",
      "[0.1 0.5 1. ]\n",
      "(120, 120)\n",
      "10 0\n",
      "Reconstruction error =3.224657399706958e-16\n",
      "[[0. 4. 5. ... 9. 4. 5.]\n",
      " [4. 0. 5. ... 7. 6. 7.]\n",
      " [5. 5. 0. ... 4. 3. 8.]\n",
      " ...\n",
      " [9. 7. 4. ... 0. 5. 6.]\n",
      " [4. 6. 3. ... 5. 0. 7.]\n",
      " [5. 7. 8. ... 6. 7. 0.]]\n",
      "(120, 10) 10\n"
     ]
    }
   ],
   "source": []
  },
  {
   "cell_type": "code",
   "execution_count": null,
   "metadata": {},
   "outputs": [],
   "source": [
    "# Draw LF samples \n",
    "# \n",
    "\n",
    "\n",
    "d = 5 # num items in rankings\n",
    "n = 250 \n",
    "max_m = 18\n",
    "\n",
    "np.random.seed(0)\n",
    "\n",
    "theta_star = np.zeros(3)\n",
    "theta_star = np.array([0.1,0.5,1.0])\n",
    "\n",
    "#theta_star[:10] = np.random.uniform(0.1,0.2,10)\n",
    "#theta_star[10:] = np.random.uniform(2,5,8)\n",
    "\n",
    "lst_m = np.arange(2,19,2)\n",
    "print(lst_m)\n",
    "lst_out = []\n",
    "trials = 5\n",
    "np.sort(theta_star)\n",
    "print(theta_star)\n",
    "np.random.shuffle(theta_star)\n",
    "\n",
    "def generate_true_rankings(d,n):\n",
    "    r_utils = RankingUtils(d)\n",
    "    Y = [r_utils.get_random_ranking() for i in range(n)]\n",
    "    return Y\n",
    "\n",
    "def sample_mallows_LFs(Y,m,thetas,p=None,d_mask=None):\n",
    "    # p = None means sample full rankings\n",
    "    # else each alternative will appear in at least p fraction of LFs.\n",
    "    n = len(Y)\n",
    "    d = len(Y[0])\n",
    "\n",
    "    thetas = np.array(thetas)\n",
    "    r_utils = RankingUtils(d)\n",
    "\n",
    "    # get LFs\n",
    "    lst_mlw = [ Mallows(r_utils,theta) for theta in thetas ]\n",
    "    L = [[mlw.sample(y)[0] for mlw in lst_mlw] for y in Y]\n",
    "\n",
    "    return L \n"
   ]
  },
  {
   "cell_type": "code",
   "execution_count": 31,
   "metadata": {},
   "outputs": [
    {
     "name": "stdout",
     "output_type": "stream",
     "text": [
      "(120, 120)\n",
      "10 0\n",
      "Reconstruction error =2.906973930800299e-16\n",
      "[[0. 4. 5. ... 9. 4. 5.]\n",
      " [4. 0. 5. ... 7. 6. 7.]\n",
      " [5. 5. 0. ... 4. 3. 8.]\n",
      " ...\n",
      " [9. 7. 4. ... 0. 5. 6.]\n",
      " [4. 6. 3. ... 5. 0. 7.]\n",
      " [5. 7. 8. ... 6. 7. 0.]]\n",
      "(120, 10) 10\n"
     ]
    }
   ],
   "source": [
    "# compute psuedo-euclidean embeddings\n",
    "\n",
    "r_utils = RankingUtils(d)\n",
    "def compute_pse(Y,L, r_utils, dim=0):\n",
    "    # assumes hash function is implemented by the class of obj.\n",
    "    unique_obj = set(Y)\n",
    "    n,m = len(L),len(L[0])\n",
    "    for i in range(len(L)):\n",
    "        for j in range(len(L[0])):\n",
    "            unique_obj.add(L[i][j])\n",
    "    \n",
    "    # compute pairwise distances b/w unique objs\n",
    "    unique_obj_lst = list(unique_obj)\n",
    "    map_obj_id = {k: v for v, k in enumerate(unique_obj_lst)}\n",
    "    map_id_obj = unique_obj_lst \n",
    "\n",
    "    D = [[r_utils.kendall_tau_distance(r1,r2) for r2 in unique_obj] for r1 in unique_obj]\n",
    "    D = np.array(D) \n",
    "    print(D.shape)\n",
    "\n",
    "    X, tk = pse.pseudo_embedding(D, dim)\n",
    "    s = len(D)\n",
    "    rec = np.zeros((s, s))\n",
    "    err = 0\n",
    "    for i in range(s):\n",
    "        for j in range(s):\n",
    "            rec[i,j] = np.abs(np.linalg.norm(X[i,:tk]-X[j,:tk])**2 - np.linalg.norm(X[i,tk:]-X[j,tk:])**2)\n",
    "            if i != j:\n",
    "                err += np.abs((np.sqrt(D[i,j])-np.sqrt(rec[i,j])))/np.sqrt(D[i,j])\n",
    "    err /= (s*(s-1))\n",
    "    print(f\"Reconstruction error ={err}\")\n",
    "    print(D)\n",
    "    Y_emb = np.array([X[map_obj_id[y]] for y in Y])\n",
    "    L_emb = np.array([ [ X[map_obj_id[L[i][j]]]  for i in range(n)] for j in range(m) ] )\n",
    "\n",
    "    return Y_emb,L_emb, X,tk \n",
    "\n",
    "Y = generate_true_rankings(d,n)\n",
    "L = sample_mallows_LFs(Y,max_m,theta_star)\n",
    "\n",
    "Y_emb, L_emb, X,tk = compute_pse(Y,L,r_utils,dim=0) \n",
    "print(X.shape,tk  )\n",
    "\n",
    "#unique_obj = compute_pse(Y,L,r_utils)\n",
    "#print(len(unique_obj))\n",
    "#for obj in unique_obj:\n",
    "#    print(obj)\n"
   ]
  },
  {
   "cell_type": "code",
   "execution_count": null,
   "metadata": {},
   "outputs": [],
   "source": [
    "# LFs mapped to embedding space\n",
    "\n",
    "# create tensors \n",
    "\n",
    "\n"
   ]
  },
  {
   "cell_type": "code",
   "execution_count": null,
   "metadata": {},
   "outputs": [],
   "source": [
    "# perform tensor decomposition to recover the parameters\n",
    "\n",
    "#tensorly\n"
   ]
  },
  {
   "cell_type": "code",
   "execution_count": 6,
   "metadata": {},
   "outputs": [],
   "source": [
    "# evaluate the recovered parameters, how ? \n",
    "# do we know true mu ? if yes, we can show distance between mu, mu_hat\n",
    "# is mu the embedding of center y ? not necessary. \n",
    "\n",
    "# from mu_hat, mean distance and then theta_hat \n",
    "\n",
    "# using theta_hat draw samples \n",
    "\n",
    "# proceed with learning and test error \n"
   ]
  },
  {
   "cell_type": "code",
   "execution_count": null,
   "metadata": {},
   "outputs": [],
   "source": []
  }
 ],
 "metadata": {
  "interpreter": {
   "hash": "140760a31b56e8a3c5592d32072d5d912b2d41de7a4e4038746bf646420bd276"
  },
  "kernelspec": {
   "display_name": "Python 3.9.7 ('base')",
   "language": "python",
   "name": "python3"
  },
  "language_info": {
   "codemirror_mode": {
    "name": "ipython",
    "version": 3
   },
   "file_extension": ".py",
   "mimetype": "text/x-python",
   "name": "python",
   "nbconvert_exporter": "python",
   "pygments_lexer": "ipython3",
   "version": "3.9.7"
  },
  "orig_nbformat": 4
 },
 "nbformat": 4,
 "nbformat_minor": 2
}
