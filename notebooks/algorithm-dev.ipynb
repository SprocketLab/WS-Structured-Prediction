{
 "cells": [
  {
   "cell_type": "code",
   "execution_count": 52,
   "metadata": {},
   "outputs": [
    {
     "name": "stdout",
     "output_type": "stream",
     "text": [
      "The autoreload extension is already loaded. To reload it, use:\n",
      "  %reload_ext autoreload\n"
     ]
    }
   ],
   "source": [
    "%load_ext autoreload\n",
    "%autoreload 2\n",
    "\n",
    "import sys\n",
    "import os\n",
    "\n",
    "root_path = '../'\n",
    "sys.path.append(os.path.join(root_path, 'code', 'core'))\n",
    "\n",
    "import pse \n",
    "import utils \n",
    "import numpy as np \n",
    "import itertools\n",
    "import math\n",
    "import networkx as nx\n",
    "import matplotlib.pyplot as plt\n",
    "\n",
    "from ranking_utils import RankingUtils\n",
    "from mallows import Mallows\n",
    "from ws_ranking import *\n",
    "import numpy as np\n",
    "from tensorly.decomposition import parafac\n",
    "\n",
    "np.random.seed(0)"
   ]
  },
  {
   "cell_type": "code",
   "execution_count": 62,
   "metadata": {},
   "outputs": [],
   "source": [
    "def generate_true_rankings(d, n):\n",
    "    ''' Sample from discrete distribution\n",
    "    '''\n",
    "    r_utils = RankingUtils(d)\n",
    "    centers = [r_utils.get_random_ranking() for _ in range(k)]\n",
    "    Y_inds = np.random.choice(a=np.arange(k), p=w, size=n)\n",
    "    Y = [centers[Y_ind] for Y_ind in Y_inds]\n",
    "    return Y, Y_inds\n",
    "\n",
    "def sample_mallows_LFs(Y, m, thetas, p=None, d_mask=None):\n",
    "    # p = None means sample full rankings\n",
    "    # else each alternative will appear in at least p fraction of LFs.\n",
    "    n = len(Y)\n",
    "    d = len(Y[0])\n",
    "\n",
    "    thetas = np.array(thetas)\n",
    "    r_utils = RankingUtils(d)\n",
    "\n",
    "    # get LFs\n",
    "    lst_mlw = [Mallows(r_utils, theta) for theta in thetas ]\n",
    "    L = [[mlw.sample(y)[0] for mlw in lst_mlw] for y in Y]\n",
    "\n",
    "    return L \n",
    "\n",
    "# compute psuedo-euclidean embeddings\n",
    "def compute_pse(Y, L, r_utils, dim=0):\n",
    "    # assumes hash function is implemented by the class of obj.\n",
    "    unique_obj = set(Y)\n",
    "    n, m = len(L), len(L[0])\n",
    "    for i in range(len(L)):\n",
    "        for j in range(len(L[0])):\n",
    "            unique_obj.add(L[i][j])\n",
    "    \n",
    "    # compute pairwise distances b/w unique objs\n",
    "    unique_obj_lst = list(unique_obj)\n",
    "    map_obj_id = {k: v for v, k in enumerate(unique_obj_lst)}\n",
    "    map_id_obj = unique_obj_lst \n",
    "\n",
    "    D = [[r_utils.kendall_tau_distance(r1, r2)**2 for r2 in unique_obj] for r1 in unique_obj]\n",
    "    D = np.array(D) \n",
    "    #print(D.shape)\n",
    "\n",
    "    X, tk = pse.pseudo_embedding(D, dim)\n",
    "    s = len(D)\n",
    "    rec = np.zeros((s, s))\n",
    "    err = 0\n",
    "    for i in range(s):\n",
    "        for j in range(s):\n",
    "            rec[i,j] = np.abs(np.linalg.norm(X[i,:tk]-X[j,:tk])**2 - np.linalg.norm(X[i,tk:]-X[j,tk:])**2)\n",
    "            if i != j:\n",
    "                err += np.abs((np.sqrt(D[i,j])-np.sqrt(rec[i,j])))/np.sqrt(D[i,j])\n",
    "    err /= (s*(s-1))\n",
    "    #print(f\"Reconstruction error = {err}\")\n",
    "    #print(D)\n",
    "    Y_emb = np.array([X[map_obj_id[y]] for y in Y])\n",
    "    L_emb = np.array([ [ X[map_obj_id[L[i][j]]]  for i in range(n)] for j in range(m) ] )\n",
    "\n",
    "    return Y_emb, L_emb, X, tk\n",
    "\n",
    "def get_estimated_w_mu(L_emb):\n",
    "    T_hat = (L_emb[0, :, :][:, :, None, None] * L_emb[1, :, :][:, None, :, None] * L_emb[2, :, :][:, None, None, :]).mean(axis=0)\n",
    "\n",
    "    w_hat, mu_hat = parafac(T_hat, rank=k, normalize_factors=True)\n",
    "\n",
    "    T_reconstructed = (mu_hat[0])[:, None, None] * (mu_hat[1])[None, :, None] * (mu_hat[2])[None, None, :]\n",
    "    T_reconstructed = T_reconstructed @ w_hat\n",
    "    \n",
    "    mse = ((T_reconstructed - T_hat) ** 2).mean()\n",
    "    #print(f'mse={mse}')\n",
    "\n",
    "    return w_hat, mu_hat\n",
    "\n",
    "compute_mse = lambda a, b: np.mean((a - b) ** 2)\n",
    "compute_sign_mse = lambda a, b: np.min([compute_mse(a, b), compute_mse(a, -b)])"
   ]
  },
  {
   "cell_type": "code",
   "execution_count": 81,
   "metadata": {},
   "outputs": [
    {
     "name": "stdout",
     "output_type": "stream",
     "text": [
      "100\n",
      "[[[0.12939269 0.16581813 0.19965434]\n",
      "  [0.11491111 0.16064455 0.18935629]]\n",
      "\n",
      " [[0.0015652  0.0016975  0.00239703]\n",
      "  [0.0016976  0.00190933 0.00818881]]]\n",
      "200\n",
      "[[[0.06801    0.08410723 0.10390559]\n",
      "  [0.0602297  0.1085079  0.09596625]]\n",
      "\n",
      " [[0.02861259 0.02332563 0.03017527]\n",
      "  [0.03231084 0.0251324  0.03027505]]]\n",
      "400\n",
      "[[[1.80847148e-05 7.01064306e-05 6.19452657e-05]\n",
      "  [6.93962635e-05 6.75332021e-05 5.23953231e-05]]\n",
      "\n",
      " [[4.96144730e-02 4.47331955e-02 4.33499915e-02]\n",
      "  [4.30177506e-02 4.66386437e-02 4.09331044e-02]]]\n",
      "800\n",
      "[[[2.25467505e-05 5.80397159e-05 1.60363054e-05]\n",
      "  [1.08205897e-04 8.52173676e-05 2.21291183e-04]]\n",
      "\n",
      " [[4.55192496e-02 5.14104638e-02 5.08446562e-02]\n",
      "  [4.91353356e-02 5.67624624e-02 5.31737922e-02]]]\n",
      "1600\n",
      "[[[9.86252723e-02 1.09252474e-01 1.18968588e-01]\n",
      "  [9.79584708e-02 1.05856298e-01 1.17855362e-01]]\n",
      "\n",
      " [[5.24245801e-05 5.47817378e-05 7.36070176e-05]\n",
      "  [3.81182371e-04 1.53961831e-04 3.66782390e-04]]]\n",
      "3200\n",
      "[[[2.95201168e-07 6.22504934e-06 1.84887193e-06]\n",
      "  [7.83495024e-04 1.06043397e-03 1.96062775e-03]]\n",
      "\n",
      " [[4.49120034e-02 4.59400638e-02 4.84547120e-02]\n",
      "  [4.44731244e-02 4.32761204e-02 5.49798751e-02]]]\n",
      "6400\n",
      "[[[6.23649336e-06 4.48327723e-06 1.66174536e-06]\n",
      "  [1.22968126e-05 1.10594378e-05 7.18390078e-06]]\n",
      "\n",
      " [[3.64113324e-02 3.80133416e-02 4.10520547e-02]\n",
      "  [3.64281890e-02 3.88410831e-02 4.18209439e-02]]]\n",
      "12800\n",
      "[[[6.03821842e-02 6.36263294e-02 6.80222829e-02]\n",
      "  [6.05202910e-02 6.43363300e-02 6.92048694e-02]]\n",
      "\n",
      " [[1.13157999e-04 3.31173309e-05 1.46312001e-05]\n",
      "  [1.34924447e-04 7.91950360e-05 9.23469085e-05]]]\n"
     ]
    }
   ],
   "source": [
    "# Draw LF samples \n",
    "# \n",
    "\n",
    "mse_reses = []\n",
    "\n",
    "ns = [100, 200, 400, 800, 1_600, 3_200, 6_400, 12_800]\n",
    "for n in ns:\n",
    "    print(n)\n",
    "\n",
    "    #####\n",
    "    k = 2 # Number of centers/components\n",
    "    d = 5 # Num items in rankings\n",
    "    #n = 100 # Num examples\n",
    "    max_m = 3 # Num LFs\n",
    "    w = np.ones(k) / k\n",
    "    ######\n",
    "\n",
    "    mse_res = np.zeros((2, k, max_m))\n",
    "\n",
    "    theta_star = np.array([0.8, 0.9, 1.0])\n",
    "\n",
    "\n",
    "    r_utils = RankingUtils(d)\n",
    "    Y, Y_inds = generate_true_rankings(d, n)\n",
    "    L = sample_mallows_LFs(Y, max_m, theta_star)\n",
    "    Y_emb, L_emb, X, tk = compute_pse(Y, L, r_utils, dim=0)\n",
    "    Y_emb_pos, Y_emb_neg = Y_emb[:, :tk], Y_emb[:, tk:]\n",
    "    L_emb_pos, L_emb_neg = L_emb[:, :, :tk], L_emb[:, :, tk:]\n",
    "\n",
    "    w_hat_pos, mu_hat_pos = get_estimated_w_mu(L_emb_pos)\n",
    "    w_hat_neg, mu_hat_neg = get_estimated_w_mu(L_emb_neg)\n",
    "\n",
    "    def get_expected_dist(L_emb, Y_emb):\n",
    "        expected_dist = np.zeros((k, max_m))\n",
    "        for c in range(k):\n",
    "            for i in range(max_m):\n",
    "                expected_dist[c, i] = (np.linalg.norm(L_emb[i, :, :][Y_inds == c] - Y_emb[Y_inds == c], axis=1) ** 2).mean()\n",
    "\n",
    "        return expected_dist\n",
    "\n",
    "    exp_dists_pos = get_expected_dist(L_emb_pos, Y_emb_pos)\n",
    "    exp_dists_neg = get_expected_dist(L_emb_neg, Y_emb_neg)\n",
    "\n",
    "\n",
    "\n",
    "    mu_hat_pos = np.array(mu_hat_pos)\n",
    "    mu_hat_neg = np.array(mu_hat_neg)\n",
    "\n",
    "    for lf in range(max_m):\n",
    "        for cent in range(k):\n",
    "            # Compute positive\n",
    "            mu = L_emb_pos[lf][Y_inds == cent, :].mean(axis=0)\n",
    "            mu /= np.linalg.norm(mu)\n",
    "            mse_res[0, cent, lf] += compute_sign_mse(mu, mu_hat_pos[lf, :, cent])\n",
    "\n",
    "            # Compute negative\n",
    "            mu = L_emb_neg[lf][Y_inds == cent, :].mean(axis=0)\n",
    "            mu /= np.linalg.norm(mu)\n",
    "            mse_res[1, cent, lf] += compute_sign_mse(mu, mu_hat_neg[lf, :, cent])\n",
    "\n",
    "    print(mse_res)\n",
    "    mse_reses.append(mse_res)\n",
    "\n"
   ]
  },
  {
   "cell_type": "code",
   "execution_count": 86,
   "metadata": {},
   "outputs": [
    {
     "data": {
      "image/png": "[encoded data removed]",
      "text/plain": [
       "<Figure size 1080x288 with 9 Axes>"
      ]
     },
     "metadata": {
      "needs_background": "light"
     },
     "output_type": "display_data"
    }
   ],
   "source": [
    "mse_reses = np.array(mse_reses)\n",
    "mse_reses.shape\n",
    "\n",
    "fig, axs = plt.subplots(3, max_m, figsize=(max_m * 5, 4))\n",
    "\n",
    "start = 1\n",
    "end = len(ns) - 1\n",
    "\n",
    "for lf in range(max_m):\n",
    "    axs[0, lf].set_title(f'LF {lf}')\n",
    "    for center in range(k):\n",
    "        axs[0, lf].plot(ns[start:end], mse_reses[start:end, 0, center, lf], label=f'Center {center}')\n",
    "    axs[0, lf].legend(frameon=False)\n",
    "    axs[0, 0].set_ylabel('MSE +')\n",
    "\n",
    "    for center in range(k):\n",
    "        axs[1, lf].plot(ns[start:end], mse_reses[start:end, 1, center, lf], label=f'Center {center}')\n",
    "        axs[1, lf].set_xlabel('n')\n",
    "    axs[1, lf].legend(frameon=False)\n",
    "    axs[1, 0].set_ylabel('MSE -')\n",
    "\n",
    "    for center in range(k):\n",
    "        axs[2, lf].plot(ns[start:end], \n",
    "            mse_reses[start:end, 0, center, lf] \\\n",
    "                + mse_reses[start:end, 1, center, lf], \n",
    "            label=f'Center {center}')\n",
    "        axs[2, lf].set_xlabel('n')\n",
    "    axs[2, lf].legend(frameon=False)\n",
    "    axs[2, 0].set_ylabel('MSE -')\n",
    "\n",
    "\n",
    "plt.show()"
   ]
  },
  {
   "cell_type": "code",
   "execution_count": 261,
   "metadata": {},
   "outputs": [
    {
     "data": {
      "text/plain": [
       "(3, 10, 2)"
      ]
     },
     "execution_count": 261,
     "metadata": {},
     "output_type": "execute_result"
    }
   ],
   "source": [
    "mu_hat_pos.shape"
   ]
  },
  {
   "cell_type": "code",
   "execution_count": 248,
   "metadata": {},
   "outputs": [
    {
     "data": {
      "text/plain": [
       "array([[1., 1., 1.],\n",
       "       [1., 1., 1.]])"
      ]
     },
     "execution_count": 248,
     "metadata": {},
     "output_type": "execute_result"
    }
   ],
   "source": [
    "mu_hat_pos = np.array(mu_hat_pos)\n",
    "np.linalg.norm(mu_hat_pos, axis=1).T ** 2"
   ]
  },
  {
   "cell_type": "code",
   "execution_count": 258,
   "metadata": {},
   "outputs": [
    {
     "data": {
      "text/plain": [
       "(1000, 10)"
      ]
     },
     "execution_count": 258,
     "metadata": {},
     "output_type": "execute_result"
    }
   ],
   "source": [
    "Y_emb_pos.shape"
   ]
  },
  {
   "cell_type": "code",
   "execution_count": 256,
   "metadata": {},
   "outputs": [
    {
     "data": {
      "text/plain": [
       "(3, 10, 2)"
      ]
     },
     "execution_count": 256,
     "metadata": {},
     "output_type": "execute_result"
    }
   ],
   "source": [
    "mu_hat_pos.shape"
   ]
  },
  {
   "cell_type": "code",
   "execution_count": 282,
   "metadata": {},
   "outputs": [],
   "source": [
    "# embedding for center 0\n",
    "mu0 = Y_emb_pos[Y_inds == 0, :][0]\n",
    "mu0 /= np.linalg.norm(mu0)\n",
    "\n",
    "# embedding for center 1\n",
    "mu1 = Y_emb_pos[Y_inds == 1, :][0]\n",
    "mu1 /= np.linalg.norm(mu1)"
   ]
  },
  {
   "cell_type": "code",
   "execution_count": 283,
   "metadata": {},
   "outputs": [
    {
     "data": {
      "text/plain": [
       "array([-0.08503496,  0.27946345, -0.04941446, -0.12045695, -0.01624838,\n",
       "        0.04755848, -0.3921985 ,  0.40385568,  0.30539595, -0.69642371])"
      ]
     },
     "execution_count": 283,
     "metadata": {},
     "output_type": "execute_result"
    }
   ],
   "source": [
    "mu1"
   ]
  },
  {
   "cell_type": "code",
   "execution_count": 313,
   "metadata": {},
   "outputs": [
    {
     "data": {
      "text/plain": [
       "array([-0.06362067, -0.11258569,  0.08012212,  0.05400758, -0.05670742,\n",
       "        0.2910298 ,  0.0060958 , -0.90074697,  0.02961498, -0.27160103])"
      ]
     },
     "execution_count": 313,
     "metadata": {},
     "output_type": "execute_result"
    }
   ],
   "source": [
    "lf_2_mu_hat_pos_1 = mu_hat_pos[2, :, 1]\n",
    "lf_2_mu_hat_pos_1"
   ]
  },
  {
   "cell_type": "code",
   "execution_count": 314,
   "metadata": {},
   "outputs": [
    {
     "data": {
      "text/plain": [
       "-0.18972490451311308"
      ]
     },
     "execution_count": 314,
     "metadata": {},
     "output_type": "execute_result"
    }
   ],
   "source": [
    "np.dot(mu1, lf_2_mu_hat_pos_1)"
   ]
  },
  {
   "cell_type": "code",
   "execution_count": null,
   "metadata": {},
   "outputs": [],
   "source": []
  }
 ],
 "metadata": {
  "kernelspec": {
   "display_name": "Python 3.8.8 ('base')",
   "language": "python",
   "name": "python3"
  },
  "language_info": {
   "codemirror_mode": {
    "name": "ipython",
    "version": 3
   },
   "file_extension": ".py",
   "mimetype": "text/x-python",
   "name": "python",
   "nbconvert_exporter": "python",
   "pygments_lexer": "ipython3",
   "version": "3.8.8"
  },
  "orig_nbformat": 4,
  "vscode": {
   "interpreter": {
    "hash": "40d3a090f54c6569ab1632332b64b2c03c39dcf918b08424e98f38b5ae0af88f"
   }
  }
 },
 "nbformat": 4,
 "nbformat_minor": 2
}
