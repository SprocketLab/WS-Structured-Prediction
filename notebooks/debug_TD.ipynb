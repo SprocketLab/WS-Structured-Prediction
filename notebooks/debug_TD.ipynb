{
 "cells": [
  {
   "cell_type": "code",
   "execution_count": 76,
   "metadata": {},
   "outputs": [],
   "source": [
    "import numpy as np"
   ]
  },
  {
   "cell_type": "code",
   "execution_count": 104,
   "metadata": {},
   "outputs": [],
   "source": [
    "def max_ae(a, b):\n",
    "    \"\"\"\"\"\"\n",
    "    return np.max(np.abs(a - b))\n",
    "\n",
    "def mse(a, b):\n",
    "    \"\"\"\"\"\"\n",
    "    return np.mean(np.abs(a - b)**2)\n",
    "\n",
    "basedir = '/Users/nick11roberts/github.com/Sala-Group/WS-Struct-Pred'\n"
   ]
  },
  {
   "cell_type": "code",
   "execution_count": 105,
   "metadata": {},
   "outputs": [
    {
     "name": "stdout",
     "output_type": "stream",
     "text": [
      "max_ae\t 0.3220881407543086\n",
      "mse\t 0.0022394177647732222\n"
     ]
    }
   ],
   "source": [
    "obj = 'M3'\n",
    "#obj = 'ex32'\n",
    "\n",
    "pn = 'pos'\n",
    "dir_hat = f'T_{pn}_hat'\n",
    "dir_td = f'T_{pn}_td'\n",
    "\n",
    "a = np.load(f'{basedir}/code/{dir_hat}/{obj}.npy')\n",
    "b = np.load(f'{basedir}/code/{dir_td}/{obj}.npy')\n",
    "\n",
    "\n",
    "#np.linalg.eig()\n",
    "\n",
    "print('max_ae\\t', max_ae(a, b))\n",
    "print('mse\\t', mse(a, b))\n"
   ]
  },
  {
   "cell_type": "code",
   "execution_count": 106,
   "metadata": {},
   "outputs": [
    {
     "data": {
      "text/plain": [
       "array([[-2.49514072e+00, -4.03593570e-01, -2.11704533e-15,\n",
       "         5.39589300e-19,  5.39589300e-19,  1.19043844e-17],\n",
       "       [-5.82058841e+00, -4.03643416e-16, -9.66418935e-17,\n",
       "         2.07881425e-16,  2.23200332e-15,  1.93071041e-01],\n",
       "       [-1.27990085e-16, -1.27990085e-16,  1.08458960e-16,\n",
       "         6.74055928e-16,  9.68585625e-02,  3.12121728e+00],\n",
       "       [-1.84341662e+00, -2.15665743e-15, -9.48707309e-17,\n",
       "         3.04558335e-16,  2.40400599e-14,  1.90392923e+01],\n",
       "       [-5.65198538e+00, -2.14928948e-15, -3.30080253e-16,\n",
       "         1.04488439e-16,  3.32835884e-16,  1.32437798e+00],\n",
       "       [ 1.03722055e-15,  4.43703733e-15,  6.29950969e-15,\n",
       "         1.00040784e-14,  5.14472846e+00,  7.96124617e+01]])"
      ]
     },
     "execution_count": 106,
     "metadata": {},
     "output_type": "execute_result"
    }
   ],
   "source": [
    "vals, vecs = np.linalg.eig(a)\n",
    "np.sort(np.real(vals))"
   ]
  },
  {
   "cell_type": "code",
   "execution_count": 107,
   "metadata": {},
   "outputs": [
    {
     "data": {
      "text/plain": [
       "array([[-2.56737256e+00, -4.12910956e-01, -4.96995550e-17,\n",
       "        -2.90567108e-18, -2.90567108e-18,  1.73082526e-17],\n",
       "       [-5.89019462e+00, -6.64700055e-17,  3.25958155e-18,\n",
       "         3.25958155e-18,  7.05698132e-17,  1.79976440e-01],\n",
       "       [-2.77813603e-17,  5.01360665e-18,  7.38404228e-18,\n",
       "         7.38404228e-18,  1.35428144e-01,  3.12837950e+00],\n",
       "       [-1.77385588e+00, -8.61233644e-16, -8.96676949e-17,\n",
       "         3.55077681e-17,  5.12287097e-16,  1.93071906e+01],\n",
       "       [-5.51201316e+00, -7.95965943e-17, -7.95965943e-17,\n",
       "        -2.25721546e-18,  1.94375123e-16,  1.52312675e+00],\n",
       "       [ 9.22926572e-17,  1.16583391e-16,  4.56244925e-16,\n",
       "         4.56244925e-16,  5.15938904e+00,  7.96832936e+01]])"
      ]
     },
     "execution_count": 107,
     "metadata": {},
     "output_type": "execute_result"
    }
   ],
   "source": [
    "vals, vecs = np.linalg.eig(b)\n",
    "np.sort(np.real(vals))"
   ]
  },
  {
   "cell_type": "code",
   "execution_count": 81,
   "metadata": {},
   "outputs": [],
   "source": [
    "def lowrank(x, k):\n",
    "    u, s, vh = np.linalg.svd(x)\n",
    "    s_abs = np.abs(s)\n",
    "    inds = np.argsort(s_abs)[::-1][:k]\n",
    "    rec = np.zeros_like(x)\n",
    "    for i in inds:\n",
    "        rec += s[i] * np.outer(u.T[i], vh[i])\n",
    "    return rec"
   ]
  },
  {
   "cell_type": "code",
   "execution_count": 82,
   "metadata": {},
   "outputs": [
    {
     "data": {
      "text/plain": [
       "array([-4.85132302e-17, -4.17386606e-17,  5.25805207e-17,  1.43292661e-16,\n",
       "        1.08387962e+00,  5.70668119e+00])"
      ]
     },
     "execution_count": 82,
     "metadata": {},
     "output_type": "execute_result"
    }
   ],
   "source": [
    "a_rec = lowrank(a, k=2)\n",
    "vals, vecs = np.linalg.eig(a_rec)\n",
    "np.sort(np.real(vals))"
   ]
  },
  {
   "cell_type": "code",
   "execution_count": 83,
   "metadata": {},
   "outputs": [
    {
     "data": {
      "text/plain": [
       "array([5.66244972e-18, 1.39335120e-17, 1.39335120e-17, 5.85177886e-17,\n",
       "       1.68450000e-01, 8.45723189e-01])"
      ]
     },
     "execution_count": 83,
     "metadata": {},
     "output_type": "execute_result"
    }
   ],
   "source": [
    "a_inv = np.linalg.pinv(a)\n",
    "vals, vecs = np.linalg.eig(a_inv)\n",
    "np.sort(np.real(vals))"
   ]
  },
  {
   "cell_type": "code",
   "execution_count": 84,
   "metadata": {},
   "outputs": [
    {
     "data": {
      "text/plain": [
       "array([-3.45512467e-17, -7.12771329e-18,  1.47878152e-17,  6.94826652e-17,\n",
       "        1.68450000e-01,  8.45723189e-01])"
      ]
     },
     "execution_count": 84,
     "metadata": {},
     "output_type": "execute_result"
    }
   ],
   "source": [
    "a_rec_inv = np.linalg.pinv(a_rec)\n",
    "vals, vecs = np.linalg.eig(a_rec_inv)\n",
    "np.sort(np.real(vals))"
   ]
  },
  {
   "cell_type": "code",
   "execution_count": 85,
   "metadata": {},
   "outputs": [
    {
     "data": {
      "text/plain": [
       "array([-1.92433545e-17, -8.83821729e-18,  8.57067875e-18,  8.57067875e-18,\n",
       "        1.56106792e-01,  9.16085614e-01])"
      ]
     },
     "execution_count": 85,
     "metadata": {},
     "output_type": "execute_result"
    }
   ],
   "source": [
    "b_inv = np.linalg.pinv(b)\n",
    "vals, vecs = np.linalg.eig(b_inv)\n",
    "np.sort(np.real(vals))"
   ]
  },
  {
   "cell_type": "code",
   "execution_count": 86,
   "metadata": {},
   "outputs": [
    {
     "data": {
      "text/plain": [
       "0.1309167165859809"
      ]
     },
     "execution_count": 86,
     "metadata": {},
     "output_type": "execute_result"
    }
   ],
   "source": [
    "max_mae(a_rec_inv, b_inv)"
   ]
  },
  {
   "cell_type": "code",
   "execution_count": null,
   "metadata": {},
   "outputs": [],
   "source": []
  }
 ],
 "metadata": {
  "kernelspec": {
   "display_name": "Python 3.9.5 ('py39')",
   "language": "python",
   "name": "python3"
  },
  "language_info": {
   "codemirror_mode": {
    "name": "ipython",
    "version": 3
   },
   "file_extension": ".py",
   "mimetype": "text/x-python",
   "name": "python",
   "nbconvert_exporter": "python",
   "pygments_lexer": "ipython3",
   "version": "3.9.5"
  },
  "orig_nbformat": 4,
  "vscode": {
   "interpreter": {
    "hash": "61b4062b24dfb1010f420dad5aa3bd73a4d2af47d0ec44eafec465a35a9d7239"
   }
  }
 },
 "nbformat": 4,
 "nbformat_minor": 2
}
